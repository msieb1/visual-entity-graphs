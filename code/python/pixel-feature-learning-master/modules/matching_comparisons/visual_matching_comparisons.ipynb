{
 "cells": [
  {
   "cell_type": "code",
   "execution_count": null,
   "metadata": {},
   "outputs": [],
   "source": [
    "# also https://docs.opencv.org/3.3.0/da/df5/tutorial_py_sift_intro.html"
   ]
  },
  {
   "cell_type": "code",
   "execution_count": null,
   "metadata": {},
   "outputs": [],
   "source": [
    "# from https://docs.opencv.org/3.3.0/dc/dc3/tutorial_py_matcher.html\n",
    "# note for 3.3\n",
    "# currently using 3.4\n",
    "%matplotlib inline\n",
    "\n",
    "import numpy as np\n",
    "import cv2\n",
    "# Print version string\n",
    "print \"OpenCV version :  {0}\".format(cv2.__version__)\n",
    "import matplotlib.pyplot as plt\n",
    "img1 = cv2.imread('simple_test_img.png',0)          # queryImage\n",
    "img2 = cv2.imread('simple_target_img.png',0) # trainImage\n",
    "\n",
    "# Initiate ORB detector\n",
    "orb = cv2.ORB_create()\n",
    "# find the keypoints and descriptors with ORB\n",
    "kp1, des1 = orb.detectAndCompute(img1,None)\n",
    "kp2, des2 = orb.detectAndCompute(img2,None)\n",
    "\n",
    "# create BFMatcher object\n",
    "bf = cv2.BFMatcher(cv2.NORM_HAMMING, crossCheck=True)\n",
    "# Match descriptors.\n",
    "matches = bf.match(des1,des2)\n",
    "# Sort them in the order of their distance.\n",
    "matches = sorted(matches, key = lambda x:x.distance)\n",
    "# Draw first 10 matches.\n",
    "img3 = cv2.drawMatches(img1,kp1,img2,kp2,matches[:100], flags=2, outImg=img2)\n",
    "fig, axes = plt.subplots(nrows=1, ncols=1)\n",
    "fig.set_figheight(10)\n",
    "fig.set_figwidth(15)\n",
    "axes.imshow(img3)\n",
    "plt.show()"
   ]
  },
  {
   "cell_type": "code",
   "execution_count": null,
   "metadata": {},
   "outputs": [],
   "source": [
    "# none of this works because SIFT is proprietary\n",
    "# import numpy as np\n",
    "# import cv2\n",
    "# from matplotlib import pyplot as plt\n",
    "# img1 = cv2.imread('box.png',0)          # queryImage\n",
    "# img2 = cv2.imread('box_in_scene.png',0) # trainImage\n",
    "# # Initiate SIFT detector\n",
    "# sift = cv2.SIFT()\n",
    "# # find the keypoints and descriptors with SIFT\n",
    "# kp1, des1 = sift.detectAndCompute(img1,None)\n",
    "# kp2, des2 = sift.detectAndCompute(img2,None)\n",
    "# # BFMatcher with default params\n",
    "# bf = cv2.BFMatcher()\n",
    "# matches = bf.knnMatch(des1,des2, k=2)\n",
    "# # Apply ratio test\n",
    "# good = []\n",
    "# for m,n in matches:\n",
    "#     if m.distance < 0.75*n.distance:\n",
    "#         good.append([m])\n",
    "# # cv2.drawMatchesKnn expects list of lists as matches.\n",
    "# img3 = cv2.drawMatchesKnn(img1,kp1,img2,kp2,good,flags=2)\n",
    "# plt.imshow(img3),plt.show()"
   ]
  },
  {
   "cell_type": "code",
   "execution_count": null,
   "metadata": {},
   "outputs": [],
   "source": [
    "# annoyingly, need: \n",
    "# https://www.pyimagesearch.com/2015/07/16/where-did-sift-and-surf-go-in-opencv-3/\n",
    "\n",
    "import cv2\n",
    "image = cv2.imread(\"simple_test_img.png\")\n",
    "gray = cv2.cvtColor(image, cv2.COLOR_BGR2GRAY)\n",
    "sift = cv2.xfeatures2d.SIFT_create()\n",
    "(kps, descs) = sift.detectAndCompute(gray, None)\n",
    "print(\"# kps: {}, descriptors: {}\".format(len(kps), descs.shape))"
   ]
  },
  {
   "cell_type": "code",
   "execution_count": null,
   "metadata": {},
   "outputs": [],
   "source": [
    "import cv2\n",
    "import numpy as np\n",
    "\n",
    "img_1 = cv2.imread(\"simple_test_img.png\")\n",
    "gray= cv2.cvtColor(img_1,cv2.COLOR_BGR2GRAY)\n",
    "sift = cv2.xfeatures2d.SIFT_create()\n",
    "kp = sift.detect(gray,None)\n",
    "img_1=cv2.drawKeypoints(gray,kp,img_1)\n",
    "\n",
    "img_2 = cv2.imread(\"simple_target_img.png\")\n",
    "gray= cv2.cvtColor(img_2,cv2.COLOR_BGR2GRAY)\n",
    "sift = cv2.xfeatures2d.SIFT_create()\n",
    "kp = sift.detect(gray,None)\n",
    "img_2=cv2.drawKeypoints(gray,kp,img_2)\n",
    "#cv2.imwrite('sift_keypoints.png',img)\n",
    "\n",
    "fig, axes = plt.subplots(nrows=1, ncols=2)\n",
    "fig.set_figheight(10)\n",
    "fig.set_figwidth(15)\n",
    "axes[0].imshow(img_1)\n",
    "axes[1].imshow(img_2)\n",
    "plt.show()\n"
   ]
  },
  {
   "cell_type": "code",
   "execution_count": null,
   "metadata": {},
   "outputs": [],
   "source": [
    "import numpy as np\n",
    "import cv2\n",
    "from matplotlib import pyplot as plt\n",
    "img1 = cv2.imread('simple_test_img.png',0)          # queryImage\n",
    "img2 = cv2.imread('simple_target_img.png',0) # trainImage\n",
    "# Initiate SIFT detector\n",
    "sift = cv2.xfeatures2d.SIFT_create()\n",
    "# find the keypoints and descriptors with SIFT\n",
    "kp1, des1 = sift.detectAndCompute(img1,None)\n",
    "kp2, des2 = sift.detectAndCompute(img2,None)\n",
    "# BFMatcher with default params\n",
    "bf = cv2.BFMatcher()\n",
    "matches = bf.knnMatch(des1,des2, k=2)\n",
    "# Apply ratio test\n",
    "good = []\n",
    "for m,n in matches:\n",
    "    if m.distance < 0.75*n.distance:\n",
    "        good.append([m])\n",
    "# cv2.drawMatchesKnn expects list of lists as matches.\n",
    "img3 = cv2.drawMatchesKnn(img1,kp1,img2,kp2,good,flags=2, outImg=img2)\n",
    "\n",
    "fig, axes = plt.subplots(nrows=1, ncols=1)\n",
    "fig.set_figheight(10)\n",
    "fig.set_figwidth(15)\n",
    "axes.imshow(img3)\n",
    "plt.show()"
   ]
  }
 ],
 "metadata": {
  "kernelspec": {
   "display_name": "Python 2",
   "language": "python",
   "name": "python2"
  },
  "language_info": {
   "codemirror_mode": {
    "name": "ipython",
    "version": 2
   },
   "file_extension": ".py",
   "mimetype": "text/x-python",
   "name": "python",
   "nbconvert_exporter": "python",
   "pygments_lexer": "ipython2",
   "version": "2.7.12"
  }
 },
 "nbformat": 4,
 "nbformat_minor": 2
}
