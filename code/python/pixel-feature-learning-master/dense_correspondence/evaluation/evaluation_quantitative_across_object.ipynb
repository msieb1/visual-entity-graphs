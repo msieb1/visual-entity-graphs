{
 "cells": [
  {
   "cell_type": "markdown",
   "metadata": {},
   "source": [
    "## Runs object evaluation across objects\n",
    "\n",
    "This grabs different objects and computes a small set of statistics on their distribution."
   ]
  },
  {
   "cell_type": "code",
   "execution_count": null,
   "metadata": {},
   "outputs": [],
   "source": [
    "import dense_correspondence_manipulation.utils.utils as utils\n",
    "import os\n",
    "\n",
    "utils.add_dense_correspondence_to_python_path()\n",
    "utils.set_cuda_visible_devices([0])\n",
    "\n",
    "from dense_correspondence.evaluation.evaluation import DenseCorrespondenceEvaluation\n",
    "from dense_correspondence.dataset.spartan_dataset_masked import SpartanDataset\n",
    "import logging\n",
    "logging.basicConfig(level=logging.INFO)\n",
    "\n",
    "import pandas as pd\n",
    "import numpy as np\n",
    "import time"
   ]
  },
  {
   "cell_type": "code",
   "execution_count": null,
   "metadata": {},
   "outputs": [],
   "source": [
    "%%javascript\n",
    "IPython.OutputArea.auto_scroll_threshold = 9999;"
   ]
  },
  {
   "cell_type": "code",
   "execution_count": null,
   "metadata": {},
   "outputs": [],
   "source": [
    "eval_config_filename = os.path.join(utils.getDenseCorrespondenceSourceDir(), 'config', 'dense_correspondence',\n",
    "                                    'evaluation', 'evaluation.yaml')\n",
    "eval_config = utils.getDictFromYamlFilename(eval_config_filename)\n",
    "dce = DenseCorrespondenceEvaluation(eval_config)\n",
    "\n",
    "network_name = \"caty_baymax\"\n",
    "dcn = dce.load_network_from_config(network_name)\n",
    "dcn.eval()\n",
    "dataset = dcn.load_training_dataset()\n",
    "\n",
    "import time\n",
    "start = time.time()\n",
    "DenseCorrespondenceEvaluation.evaluate_network_across_objects(dcn, dataset)\n",
    "print \"took\", time.time() - start, \"seconds\""
   ]
  }
 ],
 "metadata": {
  "kernelspec": {
   "display_name": "Python 2",
   "language": "python",
   "name": "python2"
  },
  "language_info": {
   "codemirror_mode": {
    "name": "ipython",
    "version": 2
   },
   "file_extension": ".py",
   "mimetype": "text/x-python",
   "name": "python",
   "nbconvert_exporter": "python",
   "pygments_lexer": "ipython2",
   "version": "2.7.12"
  }
 },
 "nbformat": 4,
 "nbformat_minor": 2
}
