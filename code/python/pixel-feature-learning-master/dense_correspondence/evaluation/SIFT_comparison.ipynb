{
 "cells": [
  {
   "cell_type": "code",
   "execution_count": null,
   "metadata": {},
   "outputs": [],
   "source": [
    "%matplotlib inline\n",
    "\n",
    "import cv2\n",
    "import numpy as np\n",
    "import pandas as pd\n",
    "import time\n",
    "import matplotlib.pyplot as plt\n",
    "from PIL import Image\n",
    "import random\n",
    "\n",
    "import dense_correspondence_manipulation.utils.utils as utils\n",
    "\n",
    "utils.add_dense_correspondence_to_python_path()\n",
    "utils.set_cuda_visible_devices([0])\n",
    "\n",
    "from dense_correspondence.evaluation.evaluation import DenseCorrespondenceEvaluation\n",
    "from dense_correspondence.dataset.spartan_dataset_masked import SpartanDataset\n",
    "from dense_correspondence.dataset.dense_correspondence_dataset_masked import ImageType, DenseCorrespondenceDataset\n",
    "import logging\n",
    "logging.basicConfig(level=logging.INFO)\n",
    "\n",
    "DCD = DenseCorrespondenceDataset\n",
    "\n",
    "random.seed(101)\n"
   ]
  },
  {
   "cell_type": "code",
   "execution_count": null,
   "metadata": {},
   "outputs": [],
   "source": [
    "dataset = SpartanDataset.make_default_10_scenes_drill()"
   ]
  },
  {
   "cell_type": "code",
   "execution_count": null,
   "metadata": {},
   "outputs": [],
   "source": [
    "scene_name = \"06_drill_long_downsampled\"\n",
    "img_a_idx = 0\n",
    "# img_b_idx = 201\n",
    "img_b_idx = 2489\n",
    "\n",
    "rgb_a, depth_a, mask_a, pose_a = dataset.get_rgbd_mask_pose(scene_name, img_a_idx)\n",
    "rgb_a = np.array(rgb_a)\n",
    "\n",
    "rgb_b, depth_b, mask_b, pose_b = dataset.get_rgbd_mask_pose(scene_name, img_b_idx)\n",
    "rgb_b = np.array(rgb_b)\n",
    "\n",
    "print rgb_b.shape\n",
    "\n"
   ]
  },
  {
   "cell_type": "code",
   "execution_count": null,
   "metadata": {},
   "outputs": [],
   "source": [
    "DCE = DenseCorrespondenceEvaluation\n",
    "dce = DenseCorrespondenceEvaluation.make_default()\n",
    "return_data = DCE.single_image_pair_sift_analysis(dataset, scene_name, img_a_idx, img_b_idx)\n",
    "kp1 = return_data['kp1']"
   ]
  },
  {
   "cell_type": "code",
   "execution_count": null,
   "metadata": {},
   "outputs": [],
   "source": [
    "dcn = dce.load_network_from_config(\"10_scenes_drill\")\n",
    "data = DCE.single_image_pair_keypoint_analysis(dcn, dataset, scene_name, img_a_idx, img_b_idx)"
   ]
  },
  {
   "cell_type": "code",
   "execution_count": null,
   "metadata": {},
   "outputs": [],
   "source": []
  }
 ],
 "metadata": {
  "kernelspec": {
   "display_name": "Python 2",
   "language": "python",
   "name": "python2"
  },
  "language_info": {
   "codemirror_mode": {
    "name": "ipython",
    "version": 2
   },
   "file_extension": ".py",
   "mimetype": "text/x-python",
   "name": "python",
   "nbconvert_exporter": "python",
   "pygments_lexer": "ipython2",
   "version": "2.7.12"
  }
 },
 "nbformat": 4,
 "nbformat_minor": 2
}
