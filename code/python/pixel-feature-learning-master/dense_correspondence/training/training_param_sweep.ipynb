{
 "cells": [
  {
   "cell_type": "code",
   "execution_count": null,
   "metadata": {},
   "outputs": [],
   "source": [
    "import math\n",
    "import dense_correspondence_manipulation.utils.utils as utils\n",
    "utils.add_dense_correspondence_to_python_path()\n",
    "from dense_correspondence.training.training import *\n",
    "import sys\n",
    "import logging\n",
    "import copy\n",
    "\n",
    "# utils.set_default_cuda_visible_devices()\n",
    "utils.set_cuda_visible_devices([0]) # use this to manually set CUDA_VISIBLE_DEVICES\n",
    "\n",
    "from dense_correspondence.training.training import DenseCorrespondenceTraining\n",
    "from dense_correspondence.dataset.spartan_dataset_masked import SpartanDataset\n",
    "from dense_correspondence.evaluation.evaluation import DenseCorrespondenceEvaluation as DCE\n",
    "logging.basicConfig(level=logging.INFO)\n"
   ]
  },
  {
   "cell_type": "code",
   "execution_count": null,
   "metadata": {},
   "outputs": [],
   "source": [
    "config_filename = os.path.join(utils.getDenseCorrespondenceSourceDir(), 'config', 'dense_correspondence', \n",
    "                               'dataset', 'composite', 'caterpillar_only.yaml')\n",
    "config = utils.getDictFromYamlFilename(config_filename)\n",
    "\n",
    "train_config_file = os.path.join(utils.getDenseCorrespondenceSourceDir(), 'config', 'dense_correspondence', \n",
    "                               'training', 'training.yaml')\n",
    "\n",
    "train_config = utils.getDictFromYamlFilename(train_config_file)\n",
    "train_config_original = copy.deepcopy(train_config)\n",
    "\n",
    "dataset = SpartanDataset(config=config)\n",
    "logging_dir = \"code/data_volume/pdc/trained_models/\"\n",
    "num_iterations = 3500"
   ]
  },
  {
   "cell_type": "code",
   "execution_count": null,
   "metadata": {},
   "outputs": [],
   "source": [
    "descriptor_dim = [3]\n",
    "network_dict = dict()\n",
    "d = 3\n",
    "exponent_list = range(-4,4)\n",
    "for exponent in exponent_list:\n",
    "    non_match_loss_weight = math.pow(10, exponent)\n",
    "    print \"training descriptor of dimension %d\" %(d)\n",
    "    name = \"multi_object_weight_e%s_%sd\" %(exponent, d)\n",
    "    print non_match_loss_weight\n",
    "    print name\n",
    "    \n",
    "    train_config = copy.deepcopy(train_config_original)\n",
    "    \n",
    "    train = DenseCorrespondenceTraining(dataset=dataset, config=train_config)\n",
    "    train._config[\"training\"][\"logging_dir\"] = logging_dir\n",
    "    train._config[\"training\"][\"logging_dir_name\"] = name\n",
    "    train._config[\"dense_correspondence_network\"][\"descriptor_dimension\"] = d\n",
    "    train._config[\"training\"][\"num_iterations\"] = num_iterations\n",
    "    train._config[\"scale_by_hard_negatives\"] = False\n",
    "    train._config[\"training\"][\"domain_randomize\"] = False\n",
    "    train.run()\n",
    "    print \"finished training descriptor of dimension %d\" %(d)\n",
    "    \n",
    "    \n",
    "    print \"running evaluation\"\n",
    "    model_folder = os.path.join(logging_dir, name)\n",
    "    DCE.run_evaluation_on_network(model_folder, num_image_pairs=25)\n",
    "    "
   ]
  },
  {
   "cell_type": "code",
   "execution_count": null,
   "metadata": {},
   "outputs": [],
   "source": []
  }
 ],
 "metadata": {
  "kernelspec": {
   "display_name": "Python 2",
   "language": "python",
   "name": "python2"
  },
  "language_info": {
   "codemirror_mode": {
    "name": "ipython",
    "version": 2
   },
   "file_extension": ".py",
   "mimetype": "text/x-python",
   "name": "python",
   "nbconvert_exporter": "python",
   "pygments_lexer": "ipython2",
   "version": "2.7.12"
  }
 },
 "nbformat": 4,
 "nbformat_minor": 2
}
