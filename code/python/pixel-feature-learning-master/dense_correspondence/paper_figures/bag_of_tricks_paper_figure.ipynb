{
 "cells": [
  {
   "cell_type": "markdown",
   "metadata": {},
   "source": [
    "# Bag of Tricks Figure\n",
    "\n",
    "Analyze the effects of our different \"tricks\".\n",
    "\n",
    "1. Sample matches off mask\n",
    "2. Scale by hard negatives\n",
    "3. L2 pixel loss on matches\n",
    "\n",
    "We will compare standard network, networks missing one trick only, and a network without any tricks (i.e same as Tanner Schmidt)"
   ]
  },
  {
   "cell_type": "code",
   "execution_count": null,
   "metadata": {},
   "outputs": [],
   "source": [
    "import numpy as np\n",
    "import os\n",
    "import fnmatch\n",
    "import pandas as pd\n",
    "import sklearn.metrics as sm\n",
    "import scipy.stats as ss\n",
    "import matplotlib.pyplot as plt\n",
    "import matplotlib\n",
    "\n",
    "import dense_correspondence_manipulation.utils.utils as utils\n",
    "utils.add_dense_correspondence_to_python_path()\n",
    "\n",
    "from dense_correspondence.evaluation.evaluation import DenseCorrespondenceEvaluationPlotter as DCEP"
   ]
  },
  {
   "cell_type": "code",
   "execution_count": null,
   "metadata": {},
   "outputs": [],
   "source": [
    "folder_name = \"trick_analysis\"\n",
    "path_to_nets = os.path.join(\"/home/manuelli/code/data_volume/pdc/trained_models\", folder_name)\n",
    "all_nets = sorted(os.listdir(path_to_nets))\n",
    "nets_to_plot = []\n",
    "matplotlib.rcParams.update({'font.size': 17})\n",
    "for net in all_nets:\n",
    "#     if \"no_dr\" in net:\n",
    "#         continue\n",
    "\n",
    "    \n",
    "    nets_to_plot.append(os.path.join(folder_name,net))\n",
    "\n",
    "    \n",
    "nets_list = []\n",
    "nets_to_plot = []\n",
    "nets_list.append(\"standard_3\")\n",
    "nets_list.append(\"dont_scale_hard_negatives_3\")\n",
    "nets_list.append(\"dont_sample_from_mask_3\")\n",
    "nets_list.append(\"no_tricks_3\")\n",
    "\n",
    "\n",
    "nets_dict = dict()\n",
    "nets_dict[\"standard-SO\"] = os.path.join(folder_name, \"standard_3\")\n",
    "nets_dict[\"no-hard-neg\"] = os.path.join(folder_name, \"dont_scale_hard_negatives_3\")\n",
    "nets_dict[\"no-masking\"] = os.path.join(folder_name, \"dont_sample_from_mask_3\")\n",
    "nets_dict[\"Schmidt\"] = os.path.join(folder_name, \"no_tricks_3\")\n",
    "\n",
    "\n",
    "net_order = [\"standard-SO\", \"no-hard-neg\", \"no-masking\", \"Schmidt\"]\n",
    "# print nets_to_plot\n",
    "print nets_to_plot\n",
    "# nets_to_plot = [\"starbot_1_train_3\"]"
   ]
  },
  {
   "cell_type": "markdown",
   "metadata": {},
   "source": [
    "# Training "
   ]
  },
  {
   "cell_type": "code",
   "execution_count": null,
   "metadata": {},
   "outputs": [],
   "source": [
    "# p = DCEP()\n",
    "# dc_source_dir = utils.getDenseCorrespondenceSourceDir()\n",
    "\n",
    "# network_name = nets_to_plot[0]\n",
    "# path_to_csv = os.path.join(dc_source_dir, \"data_volume\", \"pdc\", \"trained_models\", network_name, \"analysis/train/data.csv\")\n",
    "# fig_axes = DCEP.run_on_single_dataframe(path_to_csv, label=network_name, save=False)\n",
    "\n",
    "# for network_name in nets_to_plot[1:]:\n",
    "#     path_to_csv = os.path.join(dc_source_dir, \"data_volume\", \"pdc\", \"trained_models\", network_name, \"analysis/train/data.csv\")\n",
    "#     fig_axes = DCEP.run_on_single_dataframe(path_to_csv, label=network_name, previous_fig_axes=fig_axes, save=False)\n",
    "\n",
    "# _, axes = fig_axes\n",
    "# # axes[0].set_title(\"Training Set\")\n",
    "# plt.show()"
   ]
  },
  {
   "cell_type": "markdown",
   "metadata": {},
   "source": [
    "# Test"
   ]
  },
  {
   "cell_type": "code",
   "execution_count": null,
   "metadata": {},
   "outputs": [],
   "source": [
    "# p = DCEP()\n",
    "# dc_source_dir = utils.getDenseCorrespondenceSourceDir()\n",
    "\n",
    "# network_name = nets_to_plot[0]\n",
    "# path_to_csv = os.path.join(dc_source_dir, \"data_volume\", \"pdc\", \"trained_models\", network_name, \"analysis/test/data.csv\")\n",
    "# fig_axes = DCEP.run_on_single_dataframe(path_to_csv, label=network_name, save=False)\n",
    "\n",
    "# for network_name in nets_to_plot[1:]:\n",
    "#     path_to_csv = os.path.join(dc_source_dir, \"data_volume\", \"pdc\", \"trained_models\", network_name, \"analysis/test/data.csv\")\n",
    "#     fig_axes = DCEP.run_on_single_dataframe(path_to_csv, label=network_name, previous_fig_axes=fig_axes, save=False)\n",
    "\n",
    "# _, axes = fig_axes\n",
    "# # axes[0].set_title(\"Test Set\")\n",
    "# plt.show()"
   ]
  },
  {
   "cell_type": "markdown",
   "metadata": {},
   "source": [
    "## Cross Scene Single Object"
   ]
  },
  {
   "cell_type": "code",
   "execution_count": null,
   "metadata": {},
   "outputs": [],
   "source": [
    "p = DCEP()\n",
    "dc_source_dir = utils.getDenseCorrespondenceSourceDir()\n",
    "\n",
    "fig_axes = None\n",
    "for network_name in net_order:\n",
    "    folder = nets_dict[network_name]\n",
    "    path_to_csv = os.path.join(dc_source_dir, \"data_volume\", \"pdc\", \"trained_models\", folder, \n",
    "                               \"analysis/cross_scene/data.csv\")\n",
    "    if fig_axes is None:\n",
    "        fig_axes = DCEP.run_on_single_dataframe(path_to_csv, label=network_name, save=False)\n",
    "    else:\n",
    "        fig_axes = DCEP.run_on_single_dataframe(path_to_csv, label=network_name, previous_fig_axes=fig_axes, save=False)\n",
    "            \n",
    "        \n",
    "fig, axes = fig_axes\n",
    "fig.tight_layout()\n",
    "\n",
    "ax = axes[0,0]\n",
    "ax = ax.legend(prop={'size': 20})\n",
    "ax = axes[3,1]\n",
    "ax = ax.legend(prop={'size': 20})\n",
    "plt.show()\n",
    "\n"
   ]
  },
  {
   "cell_type": "code",
   "execution_count": null,
   "metadata": {},
   "outputs": [],
   "source": [
    "x_axis = [-0.00419111  0.00419111  0.01257332  0.02095553  0.02933774  0.03771996\n",
    "  0.04610217  0.05448438  0.06286659  0.07124881  0.07963102  0.08801323\n",
    "  0.09639544  0.10477766  0.11315987  0.12154208  0.12992429  0.1383065\n",
    "  0.14668872  0.15507093  0.16345314  0.17183535  0.18021757  0.18859978\n",
    "  0.19698199  0.2053642   0.21374642  0.22212863  0.23051084  0.23889305\n",
    "  0.24727527  0.25565748  0.26403969  0.2724219   0.28080412  0.28918633\n",
    "  0.29756854  0.30595075  0.31433297  0.32271518  0.33109739  0.3394796\n",
    "  0.34786181  0.35624403  0.36462624  0.37300845  0.38139066  0.38977288\n",
    "  0.39815509  0.4065373   0.41491951  0.42330173  0.43168394  0.44006615\n",
    "  0.44844836  0.45683058  0.46521279  0.473595    0.48197721  0.49035943\n",
    "  0.49874164  0.50712385  0.51550606  0.52388828  0.53227049  0.5406527\n",
    "  0.54903491  0.55741712  0.56579934  0.57418155  0.58256376  0.59094597\n",
    "  0.59932819  0.6077104   0.61609261  0.62447482  0.63285704  0.64123925\n",
    "  0.64962146  0.65800367  0.66638589  0.6747681   0.68315031  0.69153252\n",
    "  0.69991474  0.70829695  0.71667916  0.72506137  0.73344359  0.7418258\n",
    "  0.75020801  0.75859022  0.76697244  0.77535465  0.78373686  0.79211907\n",
    "  0.80050128  0.8088835   0.81726571  0.82564792]"
   ]
  },
  {
   "cell_type": "code",
   "execution_count": null,
   "metadata": {},
   "outputs": [],
   "source": [
    "# fig, axes = fig_axes\n",
    "print type(fig)\n",
    "folder_name = os.path.join(\"figures\", \"tricks_quant_plots\")\n",
    "print folder_name\n",
    "fig.savefig(os.path.join(folder_name, \"tricks_quant_plots_all.pdf\"))"
   ]
  },
  {
   "cell_type": "code",
   "execution_count": null,
   "metadata": {},
   "outputs": [],
   "source": [
    "extent_1 = axes[0,0].get_window_extent()\n",
    "extent_2 = axes[0,1].get_window_extent()\n",
    "extent_3 = axes[3,1].get_window_extent()\n",
    "print extent_1\n",
    "print extent_2\n",
    "\n",
    "print \"extent_3\", extent_3\n",
    "\n",
    "extent_1.x1 = extent_2.x1\n",
    "extent_1.y1 = extent_2.y1\n",
    "\n",
    "\n",
    "print extent_1\n",
    "extent = extent_1\n",
    "extent.x0 = 0\n",
    "extent.x1 = extent.x1 + 30\n",
    "extent = extent.transformed(fig.dpi_scale_trans.inverted())\n",
    "fig.savefig( os.path.join(folder_name,\"tricks_quant_plots_both.pdf\"), bbox_inches=extent.expanded(1,1.2))\n",
    "\n",
    "\n",
    "extent = axes[0,0].get_window_extent()\n",
    "extent.x0 = 0\n",
    "extent.x1 = extent.x1 + 30\n",
    "extent.y0 = extent.y0 - 45\n",
    "extent = extent.transformed(fig.dpi_scale_trans.inverted())\n",
    "fig.savefig(os.path.join(folder_name, \"tricks_quant_plots_single.pdf\"), bbox_inches=extent.expanded(1,1))\n",
    "\n",
    "\n",
    "extent = axes[3,1].get_window_extent()\n",
    "extent.x0 = extent.x0 - 33\n",
    "extent.x1 = extent.x1 + 15\n",
    "extent.y0 = extent.y0 - 45\n",
    "extent.y1 = extent.y1 + 10\n",
    "extent = extent.transformed(fig.dpi_scale_trans.inverted())\n",
    "fig.savefig(os.path.join(folder_name, \"tricks_fraction_false_positives.pdf\"), bbox_inches=extent.expanded(1,1))\n",
    "\n"
   ]
  },
  {
   "cell_type": "markdown",
   "metadata": {},
   "source": [
    "# Separating Distinct Objects"
   ]
  },
  {
   "cell_type": "code",
   "execution_count": null,
   "metadata": {},
   "outputs": [],
   "source": [
    "# p = DCEP()\n",
    "# dc_source_dir = utils.getDenseCorrespondenceSourceDir()\n",
    "\n",
    "# analysis_folder = analysis_folders[0]\n",
    "# path_to_csv = os.path.join(model_folder, analysis_folder, \n",
    "#                            \"across_object/data.csv\")\n",
    "# fig_axes = DCEP.run_on_single_dataframe_across_objects(path_to_csv, label=analysis_folder, save=False)\n",
    "\n",
    "# for analysis_folder in analysis_folders[1:]:\n",
    "#     path_to_csv = os.path.join(model_folder, \n",
    "#                                analysis_folder, \"across_object/data.csv\")\n",
    "#     fig_axes = DCEP.run_on_single_dataframe_across_objects(path_to_csv, label=analysis_folder, previous_fig_axes=fig_axes, save=False)\n",
    "\n",
    "# _, axes = fig_axes\n",
    "# # axes[0].set_title(\"Across Object\")\n",
    "# plt.show()"
   ]
  },
  {
   "cell_type": "code",
   "execution_count": null,
   "metadata": {},
   "outputs": [],
   "source": []
  }
 ],
 "metadata": {
  "kernelspec": {
   "display_name": "Python 2",
   "language": "python",
   "name": "python2"
  },
  "language_info": {
   "codemirror_mode": {
    "name": "ipython",
    "version": 2
   },
   "file_extension": ".py",
   "mimetype": "text/x-python",
   "name": "python",
   "nbconvert_exporter": "python",
   "pygments_lexer": "ipython2",
   "version": "2.7.12"
  }
 },
 "nbformat": 4,
 "nbformat_minor": 2
}
