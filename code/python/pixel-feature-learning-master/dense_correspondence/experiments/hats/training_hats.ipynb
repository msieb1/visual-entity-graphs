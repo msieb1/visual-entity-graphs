{
 "cells": [
  {
   "cell_type": "markdown",
   "metadata": {},
   "source": [
    "# Hats\n",
    "Train hats, both class consistent and class discriminatory"
   ]
  },
  {
   "cell_type": "code",
   "execution_count": null,
   "metadata": {},
   "outputs": [],
   "source": [
    "import dense_correspondence_manipulation.utils.utils as utils\n",
    "utils.add_dense_correspondence_to_python_path()\n",
    "from dense_correspondence.training.training import *\n",
    "import sys\n",
    "import logging\n",
    "\n",
    "# utils.set_default_cuda_visible_devices()\n",
    "utils.set_cuda_visible_devices([1]) # use this to manually set CUDA_VISIBLE_DEVICES\n",
    "\n",
    "from dense_correspondence.training.training import DenseCorrespondenceTraining\n",
    "from dense_correspondence.dataset.spartan_dataset_masked import SpartanDataset\n",
    "logging.basicConfig(level=logging.INFO)\n"
   ]
  },
  {
   "cell_type": "code",
   "execution_count": null,
   "metadata": {},
   "outputs": [],
   "source": [
    "config_filename = os.path.join(utils.getDenseCorrespondenceSourceDir(), 'config', 'dense_correspondence', \n",
    "                               'dataset', 'composite', 'hat_train_6.yaml')\n",
    "config = utils.getDictFromYamlFilename(config_filename)\n",
    "\n",
    "train_config_file = os.path.join(utils.getDenseCorrespondenceSourceDir(), 'config', 'dense_correspondence', \n",
    "                               'training', 'training.yaml')\n",
    "\n",
    "train_config = utils.getDictFromYamlFilename(train_config_file)\n",
    "\n",
    "dataset = SpartanDataset(config=config)\n",
    "logging_dir = \"code/data_volume/pdc/trained_models/caterpillar_new\"\n",
    "num_iterations = 3500\n",
    "num_image_pairs = 100\n",
    "\n",
    "TRAIN = True\n",
    "EVALUATE = True"
   ]
  },
  {
   "cell_type": "markdown",
   "metadata": {},
   "source": [
    "## Class Consistent"
   ]
  },
  {
   "cell_type": "code",
   "execution_count": null,
   "metadata": {},
   "outputs": [],
   "source": [
    "descriptor_dim = [3,6,9]\n",
    "M_background_list = [0.5, 2.0]\n",
    "\n",
    "for M_background in M_background_list:\n",
    "    for d in descriptor_dim:\n",
    "        print \"\\n\"\n",
    "        print \"d:\", d\n",
    "        print \"M_background:\", M_background\n",
    "        print \"training descriptor of dimension %d\" %(d)\n",
    "        \n",
    "        train_config = utils.getDictFromYamlFilename(train_config_file)\n",
    "        train = DenseCorrespondenceTraining(dataset=dataset, config=train_config)\n",
    "        name = \"hats_consistent_M_background_%.3f_%s\" %(M_background, d)\n",
    "\n",
    "        train._config[\"training\"][\"logging_dir\"] = logging_dir\n",
    "        train._config[\"training\"][\"logging_dir_name\"] = name\n",
    "        train._config[\"dense_correspondence_network\"][\"descriptor_dimension\"] = d\n",
    "        train._config[\"loss_function\"][\"M_background\"] = M_background\n",
    "\n",
    "        if TRAIN:\n",
    "            train.run()\n",
    "        print \"finished training descriptor of dimension %d\" %(d)\n",
    "\n",
    "         \n",
    "        model_folder = os.path.join(logging_dir, name)\n",
    "        model_folder = utils.convert_to_absolute_path(model_folder)\n",
    "        \n",
    "        if EVALUATE:\n",
    "            DCE = DenseCorrespondenceEvaluation\n",
    "            DCE.run_evaluation_on_network(model_folder, num_image_pairs=num_image_pairs, cross_scene=False)      \n",
    "    "
   ]
  },
  {
   "cell_type": "markdown",
   "metadata": {},
   "source": [
    "## Instance Specific"
   ]
  },
  {
   "cell_type": "code",
   "execution_count": null,
   "metadata": {},
   "outputs": [],
   "source": [
    "descriptor_dim = [3,6,9]\n",
    "M_background_list = [0.5, 2.0]\n",
    "\n",
    "for M_background in M_background_list:\n",
    "    for d in descriptor_dim:\n",
    "        print \"\\n\"\n",
    "        print \"d:\", d\n",
    "        print \"M_background:\", M_background\n",
    "        print \"training descriptor of dimension %d\" %(d)\n",
    "        train_config = utils.getDictFromYamlFilename(train_config_file)\n",
    "        train = DenseCorrespondenceTraining(dataset=dataset, config=train_config)\n",
    "        name = \"hats_specific_M_background_%.3f_%s\" %(M_background, d)\n",
    "\n",
    "        train._config[\"training\"][\"logging_dir\"] = logging_dir\n",
    "        train._config[\"training\"][\"logging_dir_name\"] = name\n",
    "        train._config[\"dense_correspondence_network\"][\"descriptor_dimension\"] = d\n",
    "        train._config[\"loss_function\"][\"M_background\"] = M_background\n",
    "        \n",
    "        # DIFFERENT_OBJECT\n",
    "        train._config[\"training\"][\"data_type_probabilities\"][\"DIFFERENT_OBJECT\"] = 0.25\n",
    "        train._config[\"training\"][\"data_type_probabilities\"][\"SINGLE_OBJECT_WITHIN_SCENE\"] = 0.75\n",
    "\n",
    "        if TRAIN:\n",
    "            train.run()\n",
    "        print \"finished training descriptor of dimension %d\" %(d)\n",
    "\n",
    "         \n",
    "        model_folder = os.path.join(logging_dir, name)\n",
    "        model_folder = utils.convert_to_absolute_path(model_folder)\n",
    "        \n",
    "        if EVALUATE:\n",
    "            DCE = DenseCorrespondenceEvaluation\n",
    "            DCE.run_evaluation_on_network(model_folder, num_image_pairs=num_image_pairs, cross_scene=False)      \n",
    "    "
   ]
  }
 ],
 "metadata": {
  "kernelspec": {
   "display_name": "Python 2",
   "language": "python",
   "name": "python2"
  },
  "language_info": {
   "codemirror_mode": {
    "name": "ipython",
    "version": 2
   },
   "file_extension": ".py",
   "mimetype": "text/x-python",
   "name": "python",
   "nbconvert_exporter": "python",
   "pygments_lexer": "ipython2",
   "version": "2.7.12"
  }
 },
 "nbformat": 4,
 "nbformat_minor": 2
}
