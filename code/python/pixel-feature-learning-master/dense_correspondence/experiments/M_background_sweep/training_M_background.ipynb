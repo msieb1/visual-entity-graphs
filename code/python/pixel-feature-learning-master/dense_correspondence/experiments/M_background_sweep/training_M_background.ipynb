{
 "cells": [
  {
   "cell_type": "markdown",
   "metadata": {},
   "source": [
    "# M_background Sweep\n",
    "\n",
    "Parameter sweep on `M_background`."
   ]
  },
  {
   "cell_type": "code",
   "execution_count": null,
   "metadata": {},
   "outputs": [],
   "source": [
    "import dense_correspondence_manipulation.utils.utils as utils\n",
    "utils.add_dense_correspondence_to_python_path()\n",
    "from dense_correspondence.training.training import *\n",
    "import sys\n",
    "import logging\n",
    "\n",
    "# utils.set_default_cuda_visible_devices()\n",
    "utils.set_cuda_visible_devices([1]) # use this to manually set CUDA_VISIBLE_DEVICES\n",
    "\n",
    "from dense_correspondence.training.training import DenseCorrespondenceTraining\n",
    "from dense_correspondence.dataset.spartan_dataset_masked import SpartanDataset\n",
    "logging.basicConfig(level=logging.INFO)\n"
   ]
  },
  {
   "cell_type": "code",
   "execution_count": null,
   "metadata": {},
   "outputs": [],
   "source": [
    "train_config_file = os.path.join(utils.getDenseCorrespondenceSourceDir(), 'config', 'dense_correspondence', \n",
    "                               'training', 'training.yaml')\n",
    "\n",
    "train_config = utils.getDictFromYamlFilename(train_config_file)\n",
    "\n",
    "\n",
    "\n",
    "\n",
    "dataset_config_filename = os.path.join(utils.getDenseCorrespondenceSourceDir(), 'config', 'dense_correspondence', \n",
    "                               'dataset', 'composite', \"caterpillar_baymax_starbot_all_front_single_only.yaml\")\n",
    "dataset_config = utils.getDictFromYamlFilename(dataset_config_filename)\n",
    "\n",
    "logging_dir = \"code/data_volume/pdc/trained_models/M_background_sweep\"num_iterations = 3500\n",
    "\n",
    "num_image_pairs = 100\n",
    "debug = False\n",
    "\n",
    "TRAIN = True\n",
    "EVALUATE = True\n",
    "\n",
    "d = 3\n",
    "network_dict = dict()\n",
    "\n",
    "# num_image_pairs = 10\n",
    "# num_iterations = 10"
   ]
  },
  {
   "cell_type": "markdown",
   "metadata": {},
   "source": [
    "## Sweep on M_background"
   ]
  },
  {
   "cell_type": "code",
   "execution_count": null,
   "metadata": {},
   "outputs": [],
   "source": [
    "dataset_config_filename = os.path.join(utils.getDenseCorrespondenceSourceDir(), 'config', 'dense_correspondence', \n",
    "                               'dataset', 'composite', \"caterpillar_baymax_starbot_all_front_single_only.yaml\")\n",
    "dataset_config = utils.getDictFromYamlFilename(dataset_config_filename)\n",
    "\n",
    "logging_dir = \"code/data_volume/pdc/trained_models/M_background_sweep\"\n",
    "M_background_list = [0.1, 0.5, 1.0, 1.5, 2.5]\n",
    "for M_background in M_background_list:\n",
    "    \n",
    "    dataset_config = utils.getDictFromYamlFilename(dataset_config_filename)\n",
    "\n",
    "    dataset = SpartanDataset(config=dataset_config)\n",
    "    train_config = utils.getDictFromYamlFilename(train_config_file)\n",
    "\n",
    "\n",
    "    name = \"M_background_.%3f_%d\" %(M_background, d)\n",
    "    print \"training %s\" %(name)\n",
    "    train = DenseCorrespondenceTraining(dataset=dataset, config=train_config)\n",
    "    train._config[\"training\"][\"logging_dir\"] = logging_dir\n",
    "    train._config[\"training\"][\"logging_dir_name\"] = name\n",
    "    train._config[\"training\"][\"num_iterations\"] = num_iterations\n",
    "    train._config[\"dense_correspondence_network\"][\"descriptor_dimension\"] = d\n",
    "    \n",
    "    train._config[\"loss_function\"][\"M_background\"] = M_background\n",
    "\n",
    "\n",
    "    if TRAIN:\n",
    "        train.run()\n",
    "    print \"finished training descriptor of dimension %d\" %(d)\n",
    "\n",
    "     # now do evaluation\n",
    "    print \"running evaluation on network %s\" %(name)\n",
    "    model_folder = os.path.join(logging_dir, name)\n",
    "    model_folder = utils.convert_to_absolute_path(model_folder)\n",
    "    network_dict[name] = model_folder\n",
    "    if EVALUATE:\n",
    "        DCE = DenseCorrespondenceEvaluation\n",
    "        DCE.run_evaluation_on_network(model_folder, num_image_pairs=num_image_pairs)\n",
    "    print \"finished running evaluation on network %s\" %(name)\n",
    "    "
   ]
  }
 ],
 "metadata": {
  "kernelspec": {
   "display_name": "Python 2",
   "language": "python",
   "name": "python2"
  },
  "language_info": {
   "codemirror_mode": {
    "name": "ipython",
    "version": 2
   },
   "file_extension": ".py",
   "mimetype": "text/x-python",
   "name": "python",
   "nbconvert_exporter": "python",
   "pygments_lexer": "ipython2",
   "version": "2.7.12"
  }
 },
 "nbformat": 4,
 "nbformat_minor": 2
}
