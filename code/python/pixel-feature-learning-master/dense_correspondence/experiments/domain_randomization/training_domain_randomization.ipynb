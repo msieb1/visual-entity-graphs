{
 "cells": [
  {
   "cell_type": "markdown",
   "metadata": {},
   "source": [
    "# Domain Randomization Experiment\n",
    "Investigate the effects of domain randomization using Star Bot Front dataset as an example"
   ]
  },
  {
   "cell_type": "code",
   "execution_count": null,
   "metadata": {},
   "outputs": [],
   "source": [
    "import dense_correspondence_manipulation.utils.utils as utils\n",
    "utils.add_dense_correspondence_to_python_path()\n",
    "from dense_correspondence.training.training import *\n",
    "import sys\n",
    "import logging\n",
    "\n",
    "# utils.set_default_cuda_visible_devices()\n",
    "utils.set_cuda_visible_devices([0]) # use this to manually set CUDA_VISIBLE_DEVICES\n",
    "\n",
    "from dense_correspondence.training.training import DenseCorrespondenceTraining\n",
    "from dense_correspondence.dataset.spartan_dataset_masked import SpartanDataset\n",
    "logging.basicConfig(level=logging.INFO)\n"
   ]
  },
  {
   "cell_type": "code",
   "execution_count": null,
   "metadata": {},
   "outputs": [],
   "source": [
    "dataset_config_filename = os.path.join(utils.getDenseCorrespondenceSourceDir(), 'config', 'dense_correspondence', \n",
    "                               'dataset', 'composite', 'baymax_front_only.yaml')\n",
    "\n",
    "\n",
    "train_config_file = os.path.join(utils.getDenseCorrespondenceSourceDir(), 'config', 'dense_correspondence', \n",
    "                               'training', 'training.yaml')\n",
    "\n",
    "train_config = utils.getDictFromYamlFilename(train_config_file)\n",
    "\n",
    "\n",
    "\n",
    "\n",
    "logging_dir = \"code/data_volume/pdc/trained_models/domain_randomization\"\n",
    "num_iterations = 3500\n",
    "num_image_pairs = 100\n",
    "debug = False\n",
    "\n",
    "TRAIN = True\n",
    "EVALUATE = True\n",
    "\n",
    "d = 3\n",
    "network_dict = dict()\n",
    "\n",
    "# num_image_pairs = 10\n",
    "# num_iterations = 10"
   ]
  },
  {
   "cell_type": "markdown",
   "metadata": {},
   "source": [
    "## Standard"
   ]
  },
  {
   "cell_type": "code",
   "execution_count": null,
   "metadata": {},
   "outputs": [],
   "source": [
    "\n",
    "dataset_config = utils.getDictFromYamlFilename(dataset_config_filename)\n",
    "\n",
    "dataset = SpartanDataset(config=dataset_config)\n",
    "train_config = utils.getDictFromYamlFilename(train_config_file)\n",
    "\n",
    "\n",
    "name = \"baymax_standard_%d\" %(d)\n",
    "print \"training %s\" %(name)\n",
    "train = DenseCorrespondenceTraining(dataset=dataset, config=train_config)\n",
    "train._config[\"training\"][\"logging_dir\"] = logging_dir\n",
    "train._config[\"training\"][\"logging_dir_name\"] = name\n",
    "train._config[\"training\"][\"num_iterations\"] = num_iterations\n",
    "train._config[\"dense_correspondence_network\"][\"descriptor_dimension\"] = d\n",
    "\n",
    "\n",
    "if TRAIN:\n",
    "    train.run()\n",
    "print \"finished training descriptor of dimension %d\" %(d)\n",
    "\n",
    " # now do evaluation\n",
    "print \"running evaluation on network %s\" %(name)\n",
    "model_folder = os.path.join(logging_dir, name)\n",
    "model_folder = utils.convert_to_absolute_path(model_folder)\n",
    "network_dict[name] = model_folder\n",
    "if EVALUATE:\n",
    "    DCE = DenseCorrespondenceEvaluation\n",
    "    DCE.run_evaluation_on_network(model_folder, num_image_pairs=num_image_pairs)\n",
    "print \"finished running evaluation on network %s\" %(name)"
   ]
  },
  {
   "cell_type": "markdown",
   "metadata": {},
   "source": [
    "## No Domain Randomization"
   ]
  },
  {
   "cell_type": "code",
   "execution_count": null,
   "metadata": {},
   "outputs": [],
   "source": [
    "dataset_config = utils.getDictFromYamlFilename(dataset_config_filename)\n",
    "\n",
    "dataset = SpartanDataset(config=dataset_config)\n",
    "train_config = utils.getDictFromYamlFilename(train_config_file)\n",
    "\n",
    "name = \"baymax_no_domain_randomization_%d\" %(d)\n",
    "print \"training %s\" %(name)\n",
    "train = DenseCorrespondenceTraining(dataset=dataset, config=train_config)\n",
    "train._config[\"training\"][\"logging_dir\"] = logging_dir\n",
    "train._config[\"training\"][\"logging_dir_name\"] = name\n",
    "train._config[\"training\"][\"num_iterations\"] = num_iterations\n",
    "\n",
    "\n",
    "train._config[\"dense_correspondence_network\"][\"descriptor_dimension\"] = d\n",
    "\n",
    "train._config[\"training\"][\"domain_randomize\"] = False\n",
    "\n",
    "if TRAIN:\n",
    "    train.run()\n",
    "print \"finished training descriptor of dimension %d\" %(d)\n",
    "\n",
    " # now do evaluation\n",
    "print \"running evaluation on network %s\" %(name)\n",
    "model_folder = os.path.join(logging_dir, name)\n",
    "model_folder = utils.convert_to_absolute_path(model_folder)\n",
    "network_dict[name] = model_folder\n",
    "if EVALUATE:\n",
    "    DCE = DenseCorrespondenceEvaluation\n",
    "    DCE.run_evaluation_on_network(model_folder, num_image_pairs=num_image_pairs)\n",
    "print \"finished running evaluation on network %s\" %(name)"
   ]
  }
 ],
 "metadata": {
  "kernelspec": {
   "display_name": "Python 2",
   "language": "python",
   "name": "python2"
  },
  "language_info": {
   "codemirror_mode": {
    "name": "ipython",
    "version": 2
   },
   "file_extension": ".py",
   "mimetype": "text/x-python",
   "name": "python",
   "nbconvert_exporter": "python",
   "pygments_lexer": "ipython2",
   "version": "2.7.12"
  }
 },
 "nbformat": 4,
 "nbformat_minor": 2
}
