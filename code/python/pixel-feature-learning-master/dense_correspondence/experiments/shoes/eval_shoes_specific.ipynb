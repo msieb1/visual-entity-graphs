{
 "cells": [
  {
   "cell_type": "markdown",
   "metadata": {},
   "source": [
    "# Shoes Instance Specific\n",
    "Eval class consistent shoes"
   ]
  },
  {
   "cell_type": "code",
   "execution_count": null,
   "metadata": {},
   "outputs": [],
   "source": [
    "import numpy as np\n",
    "import os\n",
    "import fnmatch\n",
    "import pandas as pd\n",
    "import sklearn.metrics as sm\n",
    "import scipy.stats as ss\n",
    "import matplotlib.pyplot as plt\n",
    "\n",
    "import dense_correspondence_manipulation.utils.utils as utils\n",
    "utils.add_dense_correspondence_to_python_path()\n",
    "\n",
    "from dense_correspondence.evaluation.evaluation import DenseCorrespondenceEvaluationPlotter as DCEP"
   ]
  },
  {
   "cell_type": "code",
   "execution_count": null,
   "metadata": {},
   "outputs": [],
   "source": [
    "folder_name = \"shoes\"\n",
    "path_to_nets = os.path.join(\"/home/manuelli/code/data_volume/pdc/trained_models\", folder_name)\n",
    "all_nets = sorted(os.listdir(path_to_nets))\n",
    "nets_to_plot = []\n",
    "\n",
    "for net in all_nets:\n",
    "#     nets_to_plot.append(os.path.join(folder_name,net))\n",
    "#     if \"consistent\" in net:\n",
    "#         nets_to_plot.append(os.path.join(folder_name,net))\n",
    "#     if \"0.5\" in net:\n",
    "#         continue\n",
    "#     if \"2.000_32\" in net:\n",
    "#         continue\n",
    "    if \"shoes_specific_M_background_0.500_6_with_synthetic\" in net:\n",
    "        continue\n",
    "    \n",
    "    if \"specific\" not in net:\n",
    "        continue\n",
    "        \n",
    "#     if (\"3\" in net) or (\"6\" in net):\n",
    "    nets_to_plot.append(os.path.join(folder_name,net))\n",
    "        \n",
    "    \n",
    "\n",
    "# nets_to_plot = []\n",
    "# nets_list = []\n",
    "# nets_list.append(\"hats_consistent_M_background_0.500_9\")\n",
    "# nets_list.append(\"hats_specific_M_background_0.500_9\")\n",
    "# # nets_list.append(\"hats_consistent_M_background_2.000_9\")\n",
    "# # nets_list.append(\"hats_specific_M_background_2.000_9\")\n",
    "\n",
    "# for net in nets_list:\n",
    "#     nets_to_plot.append(os.path.join(folder_name,net))\n",
    "\n",
    "\n",
    "    \n",
    "# print nets_to_plot\n",
    "print nets_to_plot\n",
    "# nets_to_plot = [\"starbot_1_train_3\"]"
   ]
  },
  {
   "cell_type": "markdown",
   "metadata": {},
   "source": [
    "# Training "
   ]
  },
  {
   "cell_type": "code",
   "execution_count": null,
   "metadata": {},
   "outputs": [],
   "source": [
    "p = DCEP()\n",
    "dc_source_dir = utils.getDenseCorrespondenceSourceDir()\n",
    "\n",
    "network_name = nets_to_plot[0]\n",
    "path_to_csv = os.path.join(dc_source_dir, \"data_volume\", \"pdc\", \"trained_models\", network_name, \"analysis/train/data.csv\")\n",
    "fig_axes = DCEP.run_on_single_dataframe(path_to_csv, label=network_name, save=False)\n",
    "\n",
    "for network_name in nets_to_plot[1:]:\n",
    "    path_to_csv = os.path.join(dc_source_dir, \"data_volume\", \"pdc\", \"trained_models\", network_name, \"analysis/train/data.csv\")\n",
    "    fig_axes = DCEP.run_on_single_dataframe(path_to_csv, label=network_name, previous_fig_axes=fig_axes, save=False)\n",
    "\n",
    "_, axes = fig_axes\n",
    "# axes[0].set_title(\"Training Set\")\n",
    "plt.show()"
   ]
  },
  {
   "cell_type": "markdown",
   "metadata": {},
   "source": [
    "# Test"
   ]
  },
  {
   "cell_type": "code",
   "execution_count": null,
   "metadata": {},
   "outputs": [],
   "source": [
    "p = DCEP()\n",
    "dc_source_dir = utils.getDenseCorrespondenceSourceDir()\n",
    "\n",
    "network_name = nets_to_plot[0]\n",
    "path_to_csv = os.path.join(dc_source_dir, \"data_volume\", \"pdc\", \"trained_models\", network_name, \"analysis/test/data.csv\")\n",
    "fig_axes = DCEP.run_on_single_dataframe(path_to_csv, label=network_name, save=False)\n",
    "\n",
    "for network_name in nets_to_plot[1:]:\n",
    "    path_to_csv = os.path.join(dc_source_dir, \"data_volume\", \"pdc\", \"trained_models\", network_name, \"analysis/test/data.csv\")\n",
    "    fig_axes = DCEP.run_on_single_dataframe(path_to_csv, label=network_name, previous_fig_axes=fig_axes, save=False)\n",
    "\n",
    "_, axes = fig_axes\n",
    "# axes[0].set_title(\"Test Set\")\n",
    "plt.show()"
   ]
  },
  {
   "cell_type": "markdown",
   "metadata": {},
   "source": [
    "## Cross Scene Single Object"
   ]
  },
  {
   "cell_type": "code",
   "execution_count": null,
   "metadata": {},
   "outputs": [],
   "source": [
    "p = DCEP()\n",
    "dc_source_dir = utils.getDenseCorrespondenceSourceDir()\n",
    "\n",
    "network_name = nets_to_plot[0]\n",
    "path_to_csv = os.path.join(dc_source_dir, \"data_volume\", \"pdc\", \"trained_models\", network_name, \"analysis/cross_scene/data.csv\")\n",
    "fig_axes = DCEP.run_on_single_dataframe(path_to_csv, label=network_name, save=False)\n",
    "\n",
    "for network_name in nets_to_plot[1:]:\n",
    "    path_to_csv = os.path.join(dc_source_dir, \"data_volume\", \"pdc\", \"trained_models\", network_name, \"analysis/cross_scene/data.csv\")\n",
    "    fig_axes = DCEP.run_on_single_dataframe(path_to_csv, label=network_name, previous_fig_axes=fig_axes, save=False)\n",
    "\n",
    "_, axes = fig_axes\n",
    "# axes[0].set_title(\"Cross Scene Set\")\n",
    "plt.show()"
   ]
  },
  {
   "cell_type": "markdown",
   "metadata": {},
   "source": [
    "# Separating Distinct Objects"
   ]
  },
  {
   "cell_type": "code",
   "execution_count": null,
   "metadata": {},
   "outputs": [],
   "source": [
    "p = DCEP()\n",
    "dc_source_dir = utils.getDenseCorrespondenceSourceDir()\n",
    "\n",
    "network_name = nets_to_plot[0]\n",
    "path_to_csv = os.path.join(dc_source_dir, \"data_volume\", \"pdc\", \"trained_models\", network_name, \"analysis\",\n",
    "                               'across_object', \"data.csv\")\n",
    "fig_axes = DCEP.run_on_single_dataframe_across_objects(path_to_csv, label=network_name, save=False)\n",
    "\n",
    "for network_name in nets_to_plot[1:]:\n",
    "    path_to_csv = os.path.join(dc_source_dir, \"data_volume\", \"pdc\", \"trained_models\", network_name, \"analysis\",\n",
    "                               'across_object', \"data.csv\")\n",
    "    fig_axes = DCEP.run_on_single_dataframe_across_objects(path_to_csv, label=network_name, previous_fig_axes=fig_axes, save=False)\n",
    "\n",
    "_, axes = fig_axes\n",
    "# axes[0].set_title(\"Across Object\")\n",
    "plt.show()"
   ]
  },
  {
   "cell_type": "code",
   "execution_count": null,
   "metadata": {},
   "outputs": [],
   "source": []
  },
  {
   "cell_type": "code",
   "execution_count": null,
   "metadata": {},
   "outputs": [],
   "source": []
  }
 ],
 "metadata": {
  "kernelspec": {
   "display_name": "Python 2",
   "language": "python",
   "name": "python2"
  },
  "language_info": {
   "codemirror_mode": {
    "name": "ipython",
    "version": 2
   },
   "file_extension": ".py",
   "mimetype": "text/x-python",
   "name": "python",
   "nbconvert_exporter": "python",
   "pygments_lexer": "ipython2",
   "version": "2.7.12"
  }
 },
 "nbformat": 4,
 "nbformat_minor": 2
}
